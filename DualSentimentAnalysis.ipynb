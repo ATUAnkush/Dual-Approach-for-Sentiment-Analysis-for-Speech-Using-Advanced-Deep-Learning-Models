{
 "cells": [
  {
   "cell_type": "markdown",
   "metadata": {},
   "source": [
    "# Import Libraries"
   ]
  },
  {
   "cell_type": "code",
   "execution_count": 1,
   "metadata": {
    "execution": {
     "iopub.execute_input": "2022-03-06T08:10:21.759921Z",
     "iopub.status.busy": "2022-03-06T08:10:21.759374Z",
     "iopub.status.idle": "2022-03-06T08:10:21.765935Z",
     "shell.execute_reply": "2022-03-06T08:10:21.764942Z",
     "shell.execute_reply.started": "2022-03-06T08:10:21.759864Z"
    }
   },
   "outputs": [
    {
     "name": "stderr",
     "output_type": "stream",
     "text": [
      "[nltk_data] Downloading package stopwords to\n",
      "[nltk_data]     C:\\Users\\ankus\\AppData\\Roaming\\nltk_data...\n",
      "[nltk_data]   Package stopwords is already up-to-date!\n",
      "[nltk_data] Downloading package punkt to\n",
      "[nltk_data]     C:\\Users\\ankus\\AppData\\Roaming\\nltk_data...\n",
      "[nltk_data]   Package punkt is already up-to-date!\n",
      "[nltk_data] Downloading package wordnet to\n",
      "[nltk_data]     C:\\Users\\ankus\\AppData\\Roaming\\nltk_data...\n",
      "[nltk_data]   Package wordnet is already up-to-date!\n"
     ]
    },
    {
     "name": "stdout",
     "output_type": "stream",
     "text": [
      "WARNING:tensorflow:From C:\\Users\\ankus\\AppData\\Roaming\\Python\\Python311\\site-packages\\keras\\src\\losses.py:2976: The name tf.losses.sparse_softmax_cross_entropy is deprecated. Please use tf.compat.v1.losses.sparse_softmax_cross_entropy instead.\n",
      "\n"
     ]
    }
   ],
   "source": [
    "import pandas as pd\n",
    "import numpy as np\n",
    "import os\n",
    "import seaborn as sns\n",
    "import matplotlib.pyplot as plt\n",
    "import librosa\n",
    "import librosa.display\n",
    "from IPython.display import Audio\n",
    "import speech_recognition as sr\n",
    "from tqdm import tqdm\n",
    "import warnings\n",
    "from textblob import TextBlob\n",
    "warnings.filterwarnings('ignore')\n",
    "from sklearn.preprocessing import OneHotEncoder, LabelEncoder\n",
    "import text2emotion as te\n",
    "from sklearn.model_selection import train_test_split\n",
    "import  tensorflow as tf\n",
    "from transformers import BertTokenizer\n",
    "import keras\n",
    "from tensorflow.keras import backend as K\n",
    "from keras.models import Sequential\n",
    "from keras.layers import Dense, LSTM, Dropout, Input\n",
    "from keras import regularizers\n",
    "from keras.models import Model, Sequential\n",
    "import warnings\n",
    "warnings.simplefilter('ignore')"
   ]
  },
  {
   "cell_type": "markdown",
   "metadata": {},
   "source": [
    "## Load the Dataset"
   ]
  },
  {
   "cell_type": "code",
   "execution_count": 2,
   "metadata": {
    "execution": {
     "iopub.execute_input": "2022-03-06T08:10:21.769751Z",
     "iopub.status.busy": "2022-03-06T08:10:21.769219Z",
     "iopub.status.idle": "2022-03-06T08:10:21.828687Z",
     "shell.execute_reply": "2022-03-06T08:10:21.827926Z",
     "shell.execute_reply.started": "2022-03-06T08:10:21.769696Z"
    }
   },
   "outputs": [
    {
     "name": "stdout",
     "output_type": "stream",
     "text": [
      "Dataset is Loaded\n"
     ]
    }
   ],
   "source": [
    "filePaths = []\n",
    "labels = []\n",
    "for dirname, _, files in os.walk('archive/TESS/'):\n",
    "    for filename in files:\n",
    "        filePaths.append(os.path.join(dirname, filename))\n",
    "        label = filename.split('_')[-1]\n",
    "        label = (label.split('.')[0]).lower()\n",
    "        labels.append(label)\n",
    "print('Dataset is Loaded')"
   ]
  },
  {
   "cell_type": "markdown",
   "metadata": {},
   "source": [
    "# Data Processing"
   ]
  },
  {
   "cell_type": "code",
   "execution_count": 3,
   "metadata": {
    "execution": {
     "iopub.execute_input": "2022-03-06T08:10:21.833767Z",
     "iopub.status.busy": "2022-03-06T08:10:21.833203Z",
     "iopub.status.idle": "2022-03-06T08:10:21.840633Z",
     "shell.execute_reply": "2022-03-06T08:10:21.839705Z",
     "shell.execute_reply.started": "2022-03-06T08:10:21.833723Z"
    }
   },
   "outputs": [
    {
     "name": "stdout",
     "output_type": "stream",
     "text": [
      "5600\n"
     ]
    },
    {
     "data": {
      "text/plain": [
       "['archive/TESS/OAF_angry\\\\OAF_back_angry.wav',\n",
       " 'archive/TESS/OAF_angry\\\\OAF_bar_angry.wav',\n",
       " 'archive/TESS/OAF_angry\\\\OAF_base_angry.wav',\n",
       " 'archive/TESS/OAF_angry\\\\OAF_bath_angry.wav',\n",
       " 'archive/TESS/OAF_angry\\\\OAF_bean_angry.wav',\n",
       " 'archive/TESS/OAF_angry\\\\OAF_beg_angry.wav',\n",
       " 'archive/TESS/OAF_angry\\\\OAF_bite_angry.wav',\n",
       " 'archive/TESS/OAF_angry\\\\OAF_boat_angry.wav',\n",
       " 'archive/TESS/OAF_angry\\\\OAF_bone_angry.wav',\n",
       " 'archive/TESS/OAF_angry\\\\OAF_book_angry.wav',\n",
       " 'archive/TESS/OAF_angry\\\\OAF_bought_angry.wav',\n",
       " 'archive/TESS/OAF_angry\\\\OAF_burn_angry.wav',\n",
       " 'archive/TESS/OAF_angry\\\\OAF_cab_angry.wav',\n",
       " 'archive/TESS/OAF_angry\\\\OAF_calm_angry.wav',\n",
       " 'archive/TESS/OAF_angry\\\\OAF_came_angry.wav']"
      ]
     },
     "execution_count": 3,
     "metadata": {},
     "output_type": "execute_result"
    }
   ],
   "source": [
    "print(len(filePaths))\n",
    "filePaths[:15]"
   ]
  },
  {
   "cell_type": "code",
   "execution_count": null,
   "metadata": {
    "execution": {
     "iopub.execute_input": "2022-03-06T08:10:21.843337Z",
     "iopub.status.busy": "2022-03-06T08:10:21.842478Z",
     "iopub.status.idle": "2022-03-06T08:10:21.850424Z",
     "shell.execute_reply": "2022-03-06T08:10:21.849546Z",
     "shell.execute_reply.started": "2022-03-06T08:10:21.843287Z"
    }
   },
   "outputs": [],
   "source": []
  },
  {
   "cell_type": "code",
   "execution_count": 4,
   "metadata": {
    "execution": {
     "iopub.execute_input": "2022-03-06T08:10:21.855065Z",
     "iopub.status.busy": "2022-03-06T08:10:21.852448Z",
     "iopub.status.idle": "2022-03-06T08:10:21.862887Z",
     "shell.execute_reply": "2022-03-06T08:10:21.861848Z",
     "shell.execute_reply.started": "2022-03-06T08:10:21.855021Z"
    }
   },
   "outputs": [
    {
     "data": {
      "text/plain": [
       "['angry',\n",
       " 'angry',\n",
       " 'angry',\n",
       " 'angry',\n",
       " 'angry',\n",
       " 'angry',\n",
       " 'angry',\n",
       " 'angry',\n",
       " 'angry',\n",
       " 'angry',\n",
       " 'angry',\n",
       " 'angry',\n",
       " 'angry',\n",
       " 'angry',\n",
       " 'angry']"
      ]
     },
     "execution_count": 4,
     "metadata": {},
     "output_type": "execute_result"
    }
   ],
   "source": [
    "labels[:15]"
   ]
  },
  {
   "cell_type": "code",
   "execution_count": 5,
   "metadata": {
    "execution": {
     "iopub.execute_input": "2022-03-06T08:10:21.865397Z",
     "iopub.status.busy": "2022-03-06T08:10:21.864625Z",
     "iopub.status.idle": "2022-03-06T08:10:21.884478Z",
     "shell.execute_reply": "2022-03-06T08:10:21.883678Z",
     "shell.execute_reply.started": "2022-03-06T08:10:21.865339Z"
    }
   },
   "outputs": [
    {
     "data": {
      "text/html": [
       "<div>\n",
       "<style scoped>\n",
       "    .dataframe tbody tr th:only-of-type {\n",
       "        vertical-align: middle;\n",
       "    }\n",
       "\n",
       "    .dataframe tbody tr th {\n",
       "        vertical-align: top;\n",
       "    }\n",
       "\n",
       "    .dataframe thead th {\n",
       "        text-align: right;\n",
       "    }\n",
       "</style>\n",
       "<table border=\"1\" class=\"dataframe\">\n",
       "  <thead>\n",
       "    <tr style=\"text-align: right;\">\n",
       "      <th></th>\n",
       "      <th>audio_file</th>\n",
       "      <th>label</th>\n",
       "    </tr>\n",
       "  </thead>\n",
       "  <tbody>\n",
       "    <tr>\n",
       "      <th>0</th>\n",
       "      <td>archive/TESS/OAF_angry\\OAF_back_angry.wav</td>\n",
       "      <td>angry</td>\n",
       "    </tr>\n",
       "    <tr>\n",
       "      <th>1</th>\n",
       "      <td>archive/TESS/OAF_angry\\OAF_bar_angry.wav</td>\n",
       "      <td>angry</td>\n",
       "    </tr>\n",
       "    <tr>\n",
       "      <th>2</th>\n",
       "      <td>archive/TESS/OAF_angry\\OAF_base_angry.wav</td>\n",
       "      <td>angry</td>\n",
       "    </tr>\n",
       "    <tr>\n",
       "      <th>3</th>\n",
       "      <td>archive/TESS/OAF_angry\\OAF_bath_angry.wav</td>\n",
       "      <td>angry</td>\n",
       "    </tr>\n",
       "    <tr>\n",
       "      <th>4</th>\n",
       "      <td>archive/TESS/OAF_angry\\OAF_bean_angry.wav</td>\n",
       "      <td>angry</td>\n",
       "    </tr>\n",
       "  </tbody>\n",
       "</table>\n",
       "</div>"
      ],
      "text/plain": [
       "                                  audio_file  label\n",
       "0  archive/TESS/OAF_angry\\OAF_back_angry.wav  angry\n",
       "1   archive/TESS/OAF_angry\\OAF_bar_angry.wav  angry\n",
       "2  archive/TESS/OAF_angry\\OAF_base_angry.wav  angry\n",
       "3  archive/TESS/OAF_angry\\OAF_bath_angry.wav  angry\n",
       "4  archive/TESS/OAF_angry\\OAF_bean_angry.wav  angry"
      ]
     },
     "execution_count": 5,
     "metadata": {},
     "output_type": "execute_result"
    }
   ],
   "source": [
    "## Create a dataframe\n",
    "df = pd.DataFrame()\n",
    "df['audio_file'] = filePaths\n",
    "df['label'] = labels\n",
    "df.head()"
   ]
  },
  {
   "cell_type": "code",
   "execution_count": 6,
   "metadata": {
    "execution": {
     "iopub.execute_input": "2022-03-06T08:10:21.886673Z",
     "iopub.status.busy": "2022-03-06T08:10:21.886018Z",
     "iopub.status.idle": "2022-03-06T08:10:21.896515Z",
     "shell.execute_reply": "2022-03-06T08:10:21.895749Z",
     "shell.execute_reply.started": "2022-03-06T08:10:21.886625Z"
    }
   },
   "outputs": [
    {
     "data": {
      "text/plain": [
       "label\n",
       "angry      800\n",
       "disgust    800\n",
       "fear       800\n",
       "happy      800\n",
       "neutral    800\n",
       "ps         800\n",
       "sad        800\n",
       "Name: count, dtype: int64"
      ]
     },
     "execution_count": 6,
     "metadata": {},
     "output_type": "execute_result"
    }
   ],
   "source": [
    "df['label'].value_counts()"
   ]
  },
  {
   "cell_type": "code",
   "execution_count": 7,
   "metadata": {},
   "outputs": [
    {
     "data": {
      "text/html": [
       "<div>\n",
       "<style scoped>\n",
       "    .dataframe tbody tr th:only-of-type {\n",
       "        vertical-align: middle;\n",
       "    }\n",
       "\n",
       "    .dataframe tbody tr th {\n",
       "        vertical-align: top;\n",
       "    }\n",
       "\n",
       "    .dataframe thead th {\n",
       "        text-align: right;\n",
       "    }\n",
       "</style>\n",
       "<table border=\"1\" class=\"dataframe\">\n",
       "  <thead>\n",
       "    <tr style=\"text-align: right;\">\n",
       "      <th></th>\n",
       "      <th>audio_file</th>\n",
       "      <th>label</th>\n",
       "    </tr>\n",
       "  </thead>\n",
       "  <tbody>\n",
       "    <tr>\n",
       "      <th>0</th>\n",
       "      <td>archive/TESS/OAF_angry\\OAF_back_angry.wav</td>\n",
       "      <td>angry</td>\n",
       "    </tr>\n",
       "    <tr>\n",
       "      <th>1</th>\n",
       "      <td>archive/TESS/OAF_angry\\OAF_bar_angry.wav</td>\n",
       "      <td>angry</td>\n",
       "    </tr>\n",
       "    <tr>\n",
       "      <th>2</th>\n",
       "      <td>archive/TESS/OAF_angry\\OAF_base_angry.wav</td>\n",
       "      <td>angry</td>\n",
       "    </tr>\n",
       "    <tr>\n",
       "      <th>3</th>\n",
       "      <td>archive/TESS/OAF_angry\\OAF_bath_angry.wav</td>\n",
       "      <td>angry</td>\n",
       "    </tr>\n",
       "    <tr>\n",
       "      <th>4</th>\n",
       "      <td>archive/TESS/OAF_angry\\OAF_bean_angry.wav</td>\n",
       "      <td>angry</td>\n",
       "    </tr>\n",
       "    <tr>\n",
       "      <th>...</th>\n",
       "      <td>...</td>\n",
       "      <td>...</td>\n",
       "    </tr>\n",
       "    <tr>\n",
       "      <th>5595</th>\n",
       "      <td>archive/TESS/YAF_sad\\YAF_witch_sad.wav</td>\n",
       "      <td>sad</td>\n",
       "    </tr>\n",
       "    <tr>\n",
       "      <th>5596</th>\n",
       "      <td>archive/TESS/YAF_sad\\YAF_yearn_sad.wav</td>\n",
       "      <td>sad</td>\n",
       "    </tr>\n",
       "    <tr>\n",
       "      <th>5597</th>\n",
       "      <td>archive/TESS/YAF_sad\\YAF_yes_sad.wav</td>\n",
       "      <td>sad</td>\n",
       "    </tr>\n",
       "    <tr>\n",
       "      <th>5598</th>\n",
       "      <td>archive/TESS/YAF_sad\\YAF_young_sad.wav</td>\n",
       "      <td>sad</td>\n",
       "    </tr>\n",
       "    <tr>\n",
       "      <th>5599</th>\n",
       "      <td>archive/TESS/YAF_sad\\YAF_youth_sad.wav</td>\n",
       "      <td>sad</td>\n",
       "    </tr>\n",
       "  </tbody>\n",
       "</table>\n",
       "<p>5600 rows × 2 columns</p>\n",
       "</div>"
      ],
      "text/plain": [
       "                                     audio_file  label\n",
       "0     archive/TESS/OAF_angry\\OAF_back_angry.wav  angry\n",
       "1      archive/TESS/OAF_angry\\OAF_bar_angry.wav  angry\n",
       "2     archive/TESS/OAF_angry\\OAF_base_angry.wav  angry\n",
       "3     archive/TESS/OAF_angry\\OAF_bath_angry.wav  angry\n",
       "4     archive/TESS/OAF_angry\\OAF_bean_angry.wav  angry\n",
       "...                                         ...    ...\n",
       "5595     archive/TESS/YAF_sad\\YAF_witch_sad.wav    sad\n",
       "5596     archive/TESS/YAF_sad\\YAF_yearn_sad.wav    sad\n",
       "5597       archive/TESS/YAF_sad\\YAF_yes_sad.wav    sad\n",
       "5598     archive/TESS/YAF_sad\\YAF_young_sad.wav    sad\n",
       "5599     archive/TESS/YAF_sad\\YAF_youth_sad.wav    sad\n",
       "\n",
       "[5600 rows x 2 columns]"
      ]
     },
     "execution_count": 7,
     "metadata": {},
     "output_type": "execute_result"
    }
   ],
   "source": [
    "df"
   ]
  },
  {
   "cell_type": "code",
   "execution_count": 8,
   "metadata": {},
   "outputs": [
    {
     "name": "stdout",
     "output_type": "stream",
     "text": [
      "Generating audio transcripts\n",
      "say the word back\n"
     ]
    }
   ],
   "source": [
    "r = sr.Recognizer()\n",
    "with sr.AudioFile(filePaths[0]) as source:\n",
    "    audio_text = r.listen(source)\n",
    "    try:\n",
    "        text = r.recognize_google(audio_text)\n",
    "        print('Generating audio transcripts')\n",
    "        print(text)\n",
    "    except:\n",
    "         print('Error encountered')"
   ]
  },
  {
   "cell_type": "code",
   "execution_count": null,
   "metadata": {},
   "outputs": [
    {
     "name": "stderr",
     "output_type": "stream",
     "text": [
      " 20%|██        | 1120/5600 [27:41<40:04,  1.86it/s]   "
     ]
    }
   ],
   "source": [
    "audioTexts=[]\n",
    "for file in tqdm(filePaths):\n",
    "    with sr.AudioFile(file) as source:\n",
    "        audio_text = r.listen(source)\n",
    "        try:\n",
    "            text = r.recognize_google(audio_text)\n",
    "        except:\n",
    "            text = 0\n",
    "    audioTexts.append(text)\n",
    "print(audioTexts[0:10])"
   ]
  },
  {
   "cell_type": "code",
   "execution_count": null,
   "metadata": {},
   "outputs": [],
   "source": [
    "df['audioTexts']=audioTexts"
   ]
  },
  {
   "cell_type": "code",
   "execution_count": null,
   "metadata": {},
   "outputs": [],
   "source": []
  },
  {
   "cell_type": "code",
   "execution_count": null,
   "metadata": {},
   "outputs": [],
   "source": [
    "df[df['audioTexts']==0]"
   ]
  },
  {
   "cell_type": "code",
   "execution_count": null,
   "metadata": {},
   "outputs": [],
   "source": [
    "df = df[df['audioTexts']!=0]\n",
    "df"
   ]
  },
  {
   "cell_type": "code",
   "execution_count": null,
   "metadata": {
    "execution": {
     "iopub.execute_input": "2022-03-06T08:10:21.898875Z",
     "iopub.status.busy": "2022-03-06T08:10:21.898327Z",
     "iopub.status.idle": "2022-03-06T08:10:22.220182Z",
     "shell.execute_reply": "2022-03-06T08:10:22.217494Z",
     "shell.execute_reply.started": "2022-03-06T08:10:21.898831Z"
    }
   },
   "outputs": [],
   "source": [
    "sns.countplot(data=df, x='label')"
   ]
  },
  {
   "cell_type": "code",
   "execution_count": null,
   "metadata": {
    "execution": {
     "iopub.execute_input": "2022-03-06T08:10:22.222260Z",
     "iopub.status.busy": "2022-03-06T08:10:22.221732Z",
     "iopub.status.idle": "2022-03-06T08:10:22.229609Z",
     "shell.execute_reply": "2022-03-06T08:10:22.228832Z",
     "shell.execute_reply.started": "2022-03-06T08:10:22.222219Z"
    }
   },
   "outputs": [],
   "source": [
    "def waveplot(data, sr, emotion):\n",
    "    plt.figure(figsize=(10,4))\n",
    "    plt.title(emotion, size=15)\n",
    "    librosa.display.waveshow(data, sr=sr)\n",
    "    plt.show()\n",
    "    \n",
    "def spectogramplot(data, sr, emotion):\n",
    "    x = librosa.stft(data)\n",
    "    amp_db = librosa.amplitude_to_db(abs(x))\n",
    "    plt.figure(figsize=(10,4))\n",
    "    plt.title(emotion, size=15)\n",
    "    librosa.display.specshow(amp_db, sr=sr, x_axis='time', y_axis='hz')\n",
    "    plt.colorbar()"
   ]
  },
  {
   "cell_type": "code",
   "execution_count": null,
   "metadata": {
    "execution": {
     "iopub.execute_input": "2022-03-06T08:10:23.155633Z",
     "iopub.status.busy": "2022-03-06T08:10:23.154991Z",
     "iopub.status.idle": "2022-03-06T08:10:23.994758Z",
     "shell.execute_reply": "2022-03-06T08:10:23.994066Z",
     "shell.execute_reply.started": "2022-03-06T08:10:23.155592Z"
    }
   },
   "outputs": [],
   "source": [
    "emotion = 'angry'\n",
    "path = np.array(df['audio_file'][df['label']==emotion])[1]\n",
    "data, samplingrate = librosa.load(path)\n",
    "waveplot(data, samplingrate, emotion)\n",
    "spectogramplot(data, samplingrate, emotion)\n",
    "Audio(path)"
   ]
  },
  {
   "cell_type": "code",
   "execution_count": null,
   "metadata": {},
   "outputs": [],
   "source": [
    "emotion = 'fear'\n",
    "path = np.array(df['audio_file'][df['label']==emotion])[0]\n",
    "data, samplingrate = librosa.load(path)\n",
    "waveplot(data, samplingrate, emotion)\n",
    "spectogramplot(data, samplingrate, emotion)\n",
    "Audio(path)"
   ]
  },
  {
   "cell_type": "code",
   "execution_count": null,
   "metadata": {},
   "outputs": [],
   "source": [
    "emotion = 'ps'\n",
    "path = np.array(df['audio_file'][df['label']==emotion])[0]\n",
    "data, samplingrate = librosa.load(path)\n",
    "waveplot(data, samplingrate, emotion)\n",
    "spectogramplot(data, samplingrate, emotion)\n",
    "Audio(path)"
   ]
  },
  {
   "cell_type": "code",
   "execution_count": null,
   "metadata": {
    "execution": {
     "iopub.execute_input": "2022-03-06T08:10:22.231270Z",
     "iopub.status.busy": "2022-03-06T08:10:22.231004Z",
     "iopub.status.idle": "2022-03-06T08:10:23.146801Z",
     "shell.execute_reply": "2022-03-06T08:10:23.146097Z",
     "shell.execute_reply.started": "2022-03-06T08:10:22.231234Z"
    },
    "scrolled": true
   },
   "outputs": [],
   "source": [
    "emotion = 'angry'\n",
    "path = np.array(df['audio_file'][df['label']==emotion])[0]\n",
    "data, samplingrate = librosa.load(path)\n",
    "waveplot(data, samplingrate, emotion)\n",
    "spectogramplot(data, samplingrate, emotion)\n",
    "Audio(path)"
   ]
  },
  {
   "cell_type": "code",
   "execution_count": null,
   "metadata": {
    "execution": {
     "iopub.execute_input": "2022-03-06T08:10:25.240111Z",
     "iopub.status.busy": "2022-03-06T08:10:25.239588Z",
     "iopub.status.idle": "2022-03-06T08:10:25.855499Z",
     "shell.execute_reply": "2022-03-06T08:10:25.854777Z",
     "shell.execute_reply.started": "2022-03-06T08:10:25.240068Z"
    }
   },
   "outputs": [],
   "source": [
    "emotion = 'disgust'\n",
    "path = np.array(df['audio_file'][df['label']==emotion])[0]\n",
    "data, samplingrate = librosa.load(path)\n",
    "waveplot(data, samplingrate, emotion)\n",
    "spectogramplot(data, samplingrate, emotion)\n",
    "Audio(path)"
   ]
  },
  {
   "cell_type": "code",
   "execution_count": null,
   "metadata": {
    "execution": {
     "iopub.execute_input": "2022-03-06T08:10:25.857568Z",
     "iopub.status.busy": "2022-03-06T08:10:25.857041Z",
     "iopub.status.idle": "2022-03-06T08:10:26.546774Z",
     "shell.execute_reply": "2022-03-06T08:10:26.546095Z",
     "shell.execute_reply.started": "2022-03-06T08:10:25.857525Z"
    }
   },
   "outputs": [],
   "source": [
    "emotion = 'fear'\n",
    "path = np.array(df['audio_file'][df['label']==emotion])[0]\n",
    "data, samplingrate = librosa.load(path)\n",
    "waveplot(data, samplingrate, emotion)\n",
    "spectogramplot(data, samplingrate, emotion)\n",
    "Audio(path)"
   ]
  },
  {
   "cell_type": "code",
   "execution_count": null,
   "metadata": {
    "execution": {
     "iopub.execute_input": "2022-03-06T08:10:25.240111Z",
     "iopub.status.busy": "2022-03-06T08:10:25.239588Z",
     "iopub.status.idle": "2022-03-06T08:10:25.855499Z",
     "shell.execute_reply": "2022-03-06T08:10:25.854777Z",
     "shell.execute_reply.started": "2022-03-06T08:10:25.240068Z"
    }
   },
   "outputs": [],
   "source": [
    "emotion = 'happy'\n",
    "path = np.array(df['audio_file'][df['label']==emotion])[0]\n",
    "data, samplingrate = librosa.load(path)\n",
    "waveplot(data, samplingrate, emotion)\n",
    "spectogramplot(data, samplingrate, emotion)\n",
    "Audio(path)"
   ]
  },
  {
   "cell_type": "code",
   "execution_count": null,
   "metadata": {
    "execution": {
     "iopub.execute_input": "2022-03-06T08:10:25.857568Z",
     "iopub.status.busy": "2022-03-06T08:10:25.857041Z",
     "iopub.status.idle": "2022-03-06T08:10:26.546774Z",
     "shell.execute_reply": "2022-03-06T08:10:26.546095Z",
     "shell.execute_reply.started": "2022-03-06T08:10:25.857525Z"
    }
   },
   "outputs": [],
   "source": [
    "emotion = 'neutral'\n",
    "path = np.array(df['audio_file'][df['label']==emotion])[0]\n",
    "data, samplingrate = librosa.load(path)\n",
    "waveplot(data, samplingrate, emotion)\n",
    "spectogramplot(data, samplingrate, emotion)\n",
    "Audio(path)"
   ]
  },
  {
   "cell_type": "code",
   "execution_count": null,
   "metadata": {},
   "outputs": [],
   "source": [
    "for text in df['audioTexts']:\n",
    "    print(te.get_emotion(text))"
   ]
  },
  {
   "cell_type": "code",
   "execution_count": null,
   "metadata": {},
   "outputs": [],
   "source": [
    "df['emotion'] = df.audioTexts.apply(lambda x: te.get_emotion(x))\n",
    "df = pd.concat([df, pd.DataFrame(df['emotion'].tolist())], axis =1)"
   ]
  },
  {
   "cell_type": "code",
   "execution_count": null,
   "metadata": {},
   "outputs": [],
   "source": [
    "df.isnull().sum()"
   ]
  },
  {
   "cell_type": "code",
   "execution_count": null,
   "metadata": {},
   "outputs": [],
   "source": [
    "df.dropna(inplace=True)"
   ]
  },
  {
   "cell_type": "code",
   "execution_count": null,
   "metadata": {},
   "outputs": [],
   "source": [
    "sentiment_list = []\n",
    "polarity_score = []\n",
    "for text in df['audioTexts']:\n",
    "    # Perform sentiment analysis using TextBlob\n",
    "    analysis = TextBlob(text)\n",
    "    polarity = analysis.sentiment.polarity\n",
    "\n",
    "    # Categorize the sentiment\n",
    "    if polarity > 0:\n",
    "        sentiment = \"Positive\"\n",
    "    elif polarity == 0:\n",
    "        sentiment = \"Neutral\"\n",
    "    else:\n",
    "        sentiment = \"Negative\"\n",
    "\n",
    "    # Display the sentiment analysis result\n",
    "    print(f\"Text: {text}\", f\" Sentiment: {sentiment} ( Polarity: {polarity})\")\n",
    "    sentiment_list.append(sentiment)\n",
    "    polarity_score.append(polarity)"
   ]
  },
  {
   "cell_type": "code",
   "execution_count": null,
   "metadata": {},
   "outputs": [],
   "source": [
    "df['Sentiment'] = sentiment_list\n",
    "df['Sentiment Score'] = polarity_score\n",
    "df"
   ]
  },
  {
   "cell_type": "code",
   "execution_count": null,
   "metadata": {},
   "outputs": [],
   "source": []
  },
  {
   "cell_type": "code",
   "execution_count": null,
   "metadata": {},
   "outputs": [],
   "source": [
    "df.to_csv('tess_audio_text_data.csv')"
   ]
  },
  {
   "cell_type": "markdown",
   "metadata": {},
   "source": [
    "# Feature Extraction Using MFCC"
   ]
  },
  {
   "cell_type": "code",
   "execution_count": null,
   "metadata": {
    "execution": {
     "iopub.execute_input": "2022-03-06T08:10:27.207267Z",
     "iopub.status.busy": "2022-03-06T08:10:27.206806Z",
     "iopub.status.idle": "2022-03-06T08:10:27.212261Z",
     "shell.execute_reply": "2022-03-06T08:10:27.211579Z",
     "shell.execute_reply.started": "2022-03-06T08:10:27.207228Z"
    }
   },
   "outputs": [],
   "source": [
    "def extract_mfcc(file):\n",
    "    y, sr = librosa.load(file, duration=3, offset=0.5)\n",
    "    mfcc = np.mean(librosa.feature.mfcc(y=y, sr=sr, n_mfcc=40).T, axis=0)\n",
    "    return mfcc"
   ]
  },
  {
   "cell_type": "code",
   "execution_count": null,
   "metadata": {
    "execution": {
     "iopub.execute_input": "2022-03-06T08:10:27.214030Z",
     "iopub.status.busy": "2022-03-06T08:10:27.213572Z",
     "iopub.status.idle": "2022-03-06T08:10:27.251263Z",
     "shell.execute_reply": "2022-03-06T08:10:27.250541Z",
     "shell.execute_reply.started": "2022-03-06T08:10:27.213993Z"
    }
   },
   "outputs": [],
   "source": [
    "extract_mfcc(df['audio_file'][0])"
   ]
  },
  {
   "cell_type": "code",
   "execution_count": null,
   "metadata": {
    "execution": {
     "iopub.execute_input": "2022-03-06T08:10:27.257564Z",
     "iopub.status.busy": "2022-03-06T08:10:27.252793Z",
     "iopub.status.idle": "2022-03-06T08:14:05.042142Z",
     "shell.execute_reply": "2022-03-06T08:14:05.041249Z",
     "shell.execute_reply.started": "2022-03-06T08:10:27.257519Z"
    }
   },
   "outputs": [],
   "source": [
    "X_mfcc = df['audio_file'].apply(lambda x: extract_mfcc(x))"
   ]
  },
  {
   "cell_type": "code",
   "execution_count": null,
   "metadata": {
    "execution": {
     "iopub.execute_input": "2022-03-06T08:14:05.049854Z",
     "iopub.status.busy": "2022-03-06T08:14:05.047553Z",
     "iopub.status.idle": "2022-03-06T08:14:05.068009Z",
     "shell.execute_reply": "2022-03-06T08:14:05.067275Z",
     "shell.execute_reply.started": "2022-03-06T08:14:05.049806Z"
    }
   },
   "outputs": [],
   "source": [
    "X_mfcc"
   ]
  },
  {
   "cell_type": "code",
   "execution_count": null,
   "metadata": {
    "execution": {
     "iopub.execute_input": "2022-03-06T08:14:05.074354Z",
     "iopub.status.busy": "2022-03-06T08:14:05.072210Z",
     "iopub.status.idle": "2022-03-06T08:14:05.088157Z",
     "shell.execute_reply": "2022-03-06T08:14:05.087188Z",
     "shell.execute_reply.started": "2022-03-06T08:14:05.074310Z"
    }
   },
   "outputs": [],
   "source": [
    "X = [x for x in X_mfcc]\n",
    "X = np.array(X)\n",
    "X.shape"
   ]
  },
  {
   "cell_type": "code",
   "execution_count": null,
   "metadata": {
    "execution": {
     "iopub.execute_input": "2022-03-06T08:14:05.094633Z",
     "iopub.status.busy": "2022-03-06T08:14:05.092469Z",
     "iopub.status.idle": "2022-03-06T08:14:05.104358Z",
     "shell.execute_reply": "2022-03-06T08:14:05.103503Z",
     "shell.execute_reply.started": "2022-03-06T08:14:05.094589Z"
    }
   },
   "outputs": [],
   "source": [
    "## input split\n",
    "X = np.expand_dims(X, -1)\n",
    "X.shape"
   ]
  },
  {
   "cell_type": "code",
   "execution_count": null,
   "metadata": {
    "execution": {
     "iopub.execute_input": "2022-03-06T08:14:05.111334Z",
     "iopub.status.busy": "2022-03-06T08:14:05.109155Z",
     "iopub.status.idle": "2022-03-06T08:14:05.124095Z",
     "shell.execute_reply": "2022-03-06T08:14:05.123146Z",
     "shell.execute_reply.started": "2022-03-06T08:14:05.111291Z"
    }
   },
   "outputs": [],
   "source": [
    "from sklearn.preprocessing import OneHotEncoder\n",
    "enc = OneHotEncoder()\n",
    "y = enc.fit_transform(df[['label']])"
   ]
  },
  {
   "cell_type": "code",
   "execution_count": null,
   "metadata": {
    "execution": {
     "iopub.execute_input": "2022-03-06T08:14:05.130401Z",
     "iopub.status.busy": "2022-03-06T08:14:05.128278Z",
     "iopub.status.idle": "2022-03-06T08:14:05.136033Z",
     "shell.execute_reply": "2022-03-06T08:14:05.135274Z",
     "shell.execute_reply.started": "2022-03-06T08:14:05.130357Z"
    }
   },
   "outputs": [],
   "source": [
    "y = y.toarray()"
   ]
  },
  {
   "cell_type": "code",
   "execution_count": null,
   "metadata": {
    "execution": {
     "iopub.execute_input": "2022-03-06T08:14:05.143224Z",
     "iopub.status.busy": "2022-03-06T08:14:05.140784Z",
     "iopub.status.idle": "2022-03-06T08:14:05.153003Z",
     "shell.execute_reply": "2022-03-06T08:14:05.152131Z",
     "shell.execute_reply.started": "2022-03-06T08:14:05.143181Z"
    }
   },
   "outputs": [],
   "source": [
    "y.shape"
   ]
  },
  {
   "cell_type": "markdown",
   "metadata": {},
   "source": [
    "# LSTM "
   ]
  },
  {
   "cell_type": "code",
   "execution_count": null,
   "metadata": {
    "execution": {
     "iopub.execute_input": "2022-03-06T08:36:07.967589Z",
     "iopub.status.busy": "2022-03-06T08:36:07.967321Z",
     "iopub.status.idle": "2022-03-06T08:36:08.225315Z",
     "shell.execute_reply": "2022-03-06T08:36:08.224578Z",
     "shell.execute_reply.started": "2022-03-06T08:36:07.967540Z"
    }
   },
   "outputs": [],
   "source": [
    "model = Sequential([\n",
    "    LSTM(256, return_sequences=False, input_shape=(40,1)),\n",
    "    Dropout(0.2),\n",
    "    Dense(128, activation='relu'),\n",
    "    Dropout(0.2),\n",
    "    Dense(64, activation='relu'),\n",
    "    Dropout(0.2),\n",
    "    Dense(7, activation='softmax')\n",
    "])\n",
    "\n",
    "model.compile(loss='categorical_crossentropy', optimizer='adam', metrics=['accuracy'])\n",
    "model.summary()"
   ]
  },
  {
   "cell_type": "code",
   "execution_count": null,
   "metadata": {
    "execution": {
     "iopub.execute_input": "2022-03-06T08:36:09.181987Z",
     "iopub.status.busy": "2022-03-06T08:36:09.181666Z",
     "iopub.status.idle": "2022-03-06T08:36:23.196140Z",
     "shell.execute_reply": "2022-03-06T08:36:23.195414Z",
     "shell.execute_reply.started": "2022-03-06T08:36:09.181950Z"
    }
   },
   "outputs": [],
   "source": [
    "# Train the model\n",
    "history = model.fit(X, y, validation_split=0.2, epochs=50, batch_size=64)"
   ]
  },
  {
   "cell_type": "code",
   "execution_count": null,
   "metadata": {
    "execution": {
     "iopub.execute_input": "2022-03-06T08:36:25.788871Z",
     "iopub.status.busy": "2022-03-06T08:36:25.788615Z",
     "iopub.status.idle": "2022-03-06T08:36:26.021814Z",
     "shell.execute_reply": "2022-03-06T08:36:26.021112Z",
     "shell.execute_reply.started": "2022-03-06T08:36:25.788841Z"
    }
   },
   "outputs": [],
   "source": [
    "epochs = list(range(50))\n",
    "acc = history.history['accuracy']\n",
    "val_acc = history.history['val_accuracy']\n",
    "\n",
    "plt.plot(epochs, acc, label='train accuracy')\n",
    "plt.plot(epochs, val_acc, label='val accuracy')\n",
    "plt.xlabel('epochs')\n",
    "plt.ylabel('accuracy')\n",
    "plt.legend()\n",
    "plt.show()"
   ]
  },
  {
   "cell_type": "code",
   "execution_count": null,
   "metadata": {
    "execution": {
     "iopub.execute_input": "2022-03-06T08:37:08.634537Z",
     "iopub.status.busy": "2022-03-06T08:37:08.633837Z",
     "iopub.status.idle": "2022-03-06T08:37:08.839437Z",
     "shell.execute_reply": "2022-03-06T08:37:08.838771Z",
     "shell.execute_reply.started": "2022-03-06T08:37:08.634502Z"
    }
   },
   "outputs": [],
   "source": [
    "loss = history.history['loss']\n",
    "val_loss = history.history['val_loss']\n",
    "\n",
    "plt.plot(epochs, loss, label='train loss')\n",
    "plt.plot(epochs, val_loss, label='val loss')\n",
    "plt.xlabel('epochs')\n",
    "plt.ylabel('loss')\n",
    "plt.legend()\n",
    "plt.show()"
   ]
  },
  {
   "cell_type": "code",
   "execution_count": null,
   "metadata": {},
   "outputs": [],
   "source": [
    "# Spliting data in test and train data set(80:20)\n",
    "X = df['audio_file']\n",
    "Y = df['label']\n",
    "X_train, X_test, y_train, y_test = train_test_split(X, Y, test_size=0.10)"
   ]
  },
  {
   "cell_type": "code",
   "execution_count": null,
   "metadata": {
    "execution": {
     "iopub.execute_input": "2022-03-06T08:10:27.257564Z",
     "iopub.status.busy": "2022-03-06T08:10:27.252793Z",
     "iopub.status.idle": "2022-03-06T08:14:05.042142Z",
     "shell.execute_reply": "2022-03-06T08:14:05.041249Z",
     "shell.execute_reply.started": "2022-03-06T08:10:27.257519Z"
    }
   },
   "outputs": [],
   "source": [
    "X_train = X_train.apply(lambda x: extract_mfcc(x))\n",
    "X_train = [x for x in X_train]\n",
    "X_train = np.array(X_train)\n",
    "X_train = np.expand_dims(X_train, -1)\n",
    "X_train.shape"
   ]
  },
  {
   "cell_type": "code",
   "execution_count": null,
   "metadata": {
    "execution": {
     "iopub.execute_input": "2022-03-06T08:14:05.074354Z",
     "iopub.status.busy": "2022-03-06T08:14:05.072210Z",
     "iopub.status.idle": "2022-03-06T08:14:05.088157Z",
     "shell.execute_reply": "2022-03-06T08:14:05.087188Z",
     "shell.execute_reply.started": "2022-03-06T08:14:05.074310Z"
    }
   },
   "outputs": [],
   "source": [
    "X_test = X_test.apply(lambda x: extract_mfcc(x))\n",
    "X_test = [x for x in X_test]\n",
    "X_test = np.array(X_test)\n",
    "X_test = np.expand_dims(X_test, -1)\n",
    "X_test.shape"
   ]
  },
  {
   "cell_type": "code",
   "execution_count": null,
   "metadata": {},
   "outputs": [],
   "source": [
    "y_train = enc.fit_transform(y_train.to_numpy().reshape(-1, 1)).toarray()\n",
    "y_train.shape"
   ]
  },
  {
   "cell_type": "code",
   "execution_count": null,
   "metadata": {
    "execution": {
     "iopub.execute_input": "2022-03-06T08:14:05.111334Z",
     "iopub.status.busy": "2022-03-06T08:14:05.109155Z",
     "iopub.status.idle": "2022-03-06T08:14:05.124095Z",
     "shell.execute_reply": "2022-03-06T08:14:05.123146Z",
     "shell.execute_reply.started": "2022-03-06T08:14:05.111291Z"
    }
   },
   "outputs": [],
   "source": [
    "y_test = enc.fit_transform(y_test.to_numpy().reshape(-1, 1)).toarray()\n",
    "y_test.shape"
   ]
  },
  {
   "cell_type": "markdown",
   "metadata": {},
   "source": [
    "# AutoEncoder for MFCC Features"
   ]
  },
  {
   "cell_type": "code",
   "execution_count": null,
   "metadata": {
    "execution": {
     "iopub.execute_input": "2022-03-06T08:36:07.967589Z",
     "iopub.status.busy": "2022-03-06T08:36:07.967321Z",
     "iopub.status.idle": "2022-03-06T08:36:08.225315Z",
     "shell.execute_reply": "2022-03-06T08:36:08.224578Z",
     "shell.execute_reply.started": "2022-03-06T08:36:07.967540Z"
    }
   },
   "outputs": [],
   "source": [
    "# Building the Auto-encoder neural network\n",
    "\n",
    "# Building the Input Layer\n",
    "input_layer = Input(shape =(X_test.shape[1], ))\n",
    "\n",
    "# Building the Encoder network\n",
    "encoded = Dense(512, activation ='relu', activity_regularizer = regularizers.l1(1e-1))(input_layer)\n",
    "encoded = Dense(64, activation ='relu', activity_regularizer = regularizers.l1(1e-5))(encoded)\n",
    "encoded = Dense(32, activation ='relu')(encoded)\n",
    "\n",
    "# Building the Decoder network\n",
    "decoded = Dense(16, activation ='relu')(encoded)\n",
    "decoded = Dense(8, activation ='relu')(decoded)\n",
    "\n",
    "# Building the Output Layer\n",
    "output_layer = Dense(7, activation ='softmax')(decoded)"
   ]
  },
  {
   "cell_type": "code",
   "execution_count": null,
   "metadata": {},
   "outputs": [],
   "source": [
    "autoencoder = Model(input_layer, output_layer)\n",
    "autoencoder.compile(loss='categorical_crossentropy', optimizer='adam', metrics=['accuracy'])"
   ]
  },
  {
   "cell_type": "code",
   "execution_count": null,
   "metadata": {
    "execution": {
     "iopub.execute_input": "2022-03-06T08:36:09.181987Z",
     "iopub.status.busy": "2022-03-06T08:36:09.181666Z",
     "iopub.status.idle": "2022-03-06T08:36:23.196140Z",
     "shell.execute_reply": "2022-03-06T08:36:23.195414Z",
     "shell.execute_reply.started": "2022-03-06T08:36:09.181950Z"
    },
    "scrolled": false
   },
   "outputs": [],
   "source": [
    "# Train the model\n",
    "history = autoencoder.fit(X_train, y_train, validation_split=0.1, epochs = 100)"
   ]
  },
  {
   "cell_type": "code",
   "execution_count": null,
   "metadata": {},
   "outputs": [],
   "source": [
    "lossMFCC, accuracyMFCC=autoencoder.evaluate(X_test, y_test)\n",
    "print(\"Accuracy: %.2f%%\" % (accuracyMFCC * 100.0))"
   ]
  },
  {
   "cell_type": "code",
   "execution_count": null,
   "metadata": {},
   "outputs": [],
   "source": [
    "epochs = list(range(100))\n",
    "acc = history.history['accuracy']\n",
    "val_acc = history.history['val_accuracy']\n",
    "\n",
    "plt.plot(epochs, acc, label='train accuracy')\n",
    "plt.plot(epochs, val_acc, label='val accuracy')\n",
    "plt.xlabel('epochs')\n",
    "plt.ylabel('accuracy')\n",
    "plt.legend()\n",
    "plt.show()"
   ]
  },
  {
   "cell_type": "code",
   "execution_count": null,
   "metadata": {},
   "outputs": [],
   "source": [
    "loss = history.history['loss']\n",
    "val_loss = history.history['val_loss']\n",
    "\n",
    "plt.plot(epochs, loss, label='train loss')\n",
    "plt.plot(epochs, val_loss, label='val loss')\n",
    "plt.xlabel('epochs')\n",
    "plt.ylabel('loss')\n",
    "plt.legend()\n",
    "plt.show()"
   ]
  },
  {
   "cell_type": "markdown",
   "metadata": {},
   "source": [
    "# Bert Tokenizer"
   ]
  },
  {
   "cell_type": "markdown",
   "metadata": {},
   "source": [
    "BERT tokenizer uses something known as subword-based tokenization. Subword-tokenization splits unknown words into smaller words or characters such that the model can derive some meaning from the tokens. Because BERT practices to predict missing words in the text, and because it analyzes every sentence with no specific direction, it does a better job at understanding the meaning of homonyms than previous NLP methodologies,"
   ]
  },
  {
   "cell_type": "code",
   "execution_count": null,
   "metadata": {},
   "outputs": [],
   "source": [
    "df['audioTexts'].duplicated()"
   ]
  },
  {
   "cell_type": "code",
   "execution_count": null,
   "metadata": {},
   "outputs": [],
   "source": [
    "data =df.drop_duplicates(subset=['audioTexts'], keep='first')\n",
    "data"
   ]
  },
  {
   "cell_type": "code",
   "execution_count": null,
   "metadata": {},
   "outputs": [],
   "source": [
    "# Spliting data in test and train data set(80:20)\n",
    "x= data['audioTexts']\n",
    "y = enc.fit_transform(data['label'].to_numpy().reshape(-1, 1)).toarray()\n",
    "X_train, X_test, y_train, y_test = train_test_split(x, y, test_size=0.10, shuffle=True)"
   ]
  },
  {
   "cell_type": "code",
   "execution_count": null,
   "metadata": {},
   "outputs": [],
   "source": [
    "y_train.shape, y_test.shape"
   ]
  },
  {
   "cell_type": "code",
   "execution_count": null,
   "metadata": {},
   "outputs": [],
   "source": [
    "tokenizer = BertTokenizer.from_pretrained('bert-large-uncased')"
   ]
  },
  {
   "cell_type": "code",
   "execution_count": null,
   "metadata": {},
   "outputs": [],
   "source": [
    "tokenized_texts = [tokenizer.tokenize(com) for com in X_train]\n",
    "tokenized_texts = [sent[:len(tokenized_texts)] for sent in tokenized_texts]\n",
    "X_train = [tokenizer.convert_tokens_to_ids(com) for com in tokenized_texts]\n",
    "X_train = tf.keras.preprocessing.sequence.pad_sequences(X_train, maxlen=15, truncating='post', padding='post')\n",
    "X_train.shape"
   ]
  },
  {
   "cell_type": "code",
   "execution_count": null,
   "metadata": {
    "scrolled": false
   },
   "outputs": [],
   "source": [
    "tokenized_texts = [tokenizer.tokenize(com) for com in X_test]\n",
    "tokenized_texts = [sent[:len(tokenized_texts)] for sent in tokenized_texts]\n",
    "X_test = [tokenizer.convert_tokens_to_ids(com) for com in tokenized_texts]\n",
    "X_test = tf.keras.preprocessing.sequence.pad_sequences(X_test, maxlen=15, truncating='post', padding='post')\n",
    "X_test.shape"
   ]
  },
  {
   "cell_type": "markdown",
   "metadata": {},
   "source": [
    "# AutoEncoder for Bert Features"
   ]
  },
  {
   "cell_type": "code",
   "execution_count": null,
   "metadata": {
    "execution": {
     "iopub.execute_input": "2022-03-06T08:36:07.967589Z",
     "iopub.status.busy": "2022-03-06T08:36:07.967321Z",
     "iopub.status.idle": "2022-03-06T08:36:08.225315Z",
     "shell.execute_reply": "2022-03-06T08:36:08.224578Z",
     "shell.execute_reply.started": "2022-03-06T08:36:07.967540Z"
    }
   },
   "outputs": [],
   "source": [
    "# Building the Auto-encoder neural network\n",
    "\n",
    "# Building the Input Layer\n",
    "input_layer = Input(shape =(X_test.shape[1], ))\n",
    "\n",
    "# Building the Encoder network\n",
    "encoded = Dense(512, activation ='relu', activity_regularizer = regularizers.l1(1e-1))(input_layer)\n",
    "encoded = Dense(64, activation ='relu', activity_regularizer = regularizers.l1(1e-5))(encoded)\n",
    "encoded = Dense(32, activation ='relu')(encoded)\n",
    "\n",
    "# Building the Decoder network\n",
    "decoded = Dense(16, activation ='relu')(encoded)\n",
    "decoded = Dense(8, activation ='relu')(decoded)\n",
    "\n",
    "# Building the Output Layer\n",
    "output_layer = Dense(7, activation ='softmax')(decoded)"
   ]
  },
  {
   "cell_type": "code",
   "execution_count": null,
   "metadata": {},
   "outputs": [],
   "source": [
    "autoencoder = Model(input_layer, output_layer)\n",
    "autoencoder.compile(optimizer =\"adam\", loss ='categorical_crossentropy', metrics='accuracy')"
   ]
  },
  {
   "cell_type": "code",
   "execution_count": null,
   "metadata": {
    "execution": {
     "iopub.execute_input": "2022-03-06T08:36:09.181987Z",
     "iopub.status.busy": "2022-03-06T08:36:09.181666Z",
     "iopub.status.idle": "2022-03-06T08:36:23.196140Z",
     "shell.execute_reply": "2022-03-06T08:36:23.195414Z",
     "shell.execute_reply.started": "2022-03-06T08:36:09.181950Z"
    },
    "scrolled": false
   },
   "outputs": [],
   "source": [
    "# Train the model\n",
    "history = autoencoder.fit(X_train, y_train, validation_split=0.10, epochs = 30)"
   ]
  },
  {
   "cell_type": "code",
   "execution_count": null,
   "metadata": {},
   "outputs": [],
   "source": [
    "lossBert, accuracyBert =autoencoder.evaluate(X_test, y_test)\n",
    "print(\"Accuracy: %.2f%%\" % (accuracyBert * 100.0))"
   ]
  },
  {
   "cell_type": "code",
   "execution_count": null,
   "metadata": {},
   "outputs": [],
   "source": [
    "epochs = list(range(30))\n",
    "acc = history.history['accuracy']\n",
    "val_acc = history.history['val_accuracy']\n",
    "\n",
    "plt.plot(epochs, acc, label='train accuracy')\n",
    "plt.plot(epochs, val_acc, label='val accuracy')\n",
    "plt.xlabel('epochs')\n",
    "plt.ylabel('accuracy')\n",
    "plt.legend()\n",
    "plt.show()"
   ]
  },
  {
   "cell_type": "code",
   "execution_count": null,
   "metadata": {},
   "outputs": [],
   "source": [
    "loss = history.history['loss']\n",
    "val_loss = history.history['val_loss']\n",
    "\n",
    "plt.plot(epochs, loss, label='train loss')\n",
    "plt.plot(epochs, val_loss, label='val loss')\n",
    "plt.xlabel('epochs')\n",
    "plt.ylabel('loss')\n",
    "plt.legend()\n",
    "plt.show()"
   ]
  },
  {
   "cell_type": "markdown",
   "metadata": {},
   "source": [
    "# Comaritive Analysis"
   ]
  },
  {
   "cell_type": "code",
   "execution_count": null,
   "metadata": {},
   "outputs": [],
   "source": [
    "comp = pd.DataFrame()\n",
    "comp['Models']=['MFCC','Bert']\n",
    "comp['Accuracy']=[accuracyMFCC* 100.0, accuracyBert* 100.0]\n",
    "comp['Loss']=[lossMFCC, lossBert]\n",
    "comp"
   ]
  },
  {
   "cell_type": "code",
   "execution_count": null,
   "metadata": {},
   "outputs": [],
   "source": [
    "comp.plot(kind='barh')"
   ]
  },
  {
   "cell_type": "code",
   "execution_count": null,
   "metadata": {},
   "outputs": [],
   "source": []
  }
 ],
 "metadata": {
  "kernelspec": {
   "display_name": "Python 3 (ipykernel)",
   "language": "python",
   "name": "python3"
  },
  "language_info": {
   "codemirror_mode": {
    "name": "ipython",
    "version": 3
   },
   "file_extension": ".py",
   "mimetype": "text/x-python",
   "name": "python",
   "nbconvert_exporter": "python",
   "pygments_lexer": "ipython3",
   "version": "3.11.5"
  }
 },
 "nbformat": 4,
 "nbformat_minor": 4
}
